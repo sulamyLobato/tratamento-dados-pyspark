{
  "nbformat": 4,
  "nbformat_minor": 0,
  "metadata": {
    "colab": {
      "provenance": [],
      "authorship_tag": "ABX9TyM6kNTAT41RPAhIrWxFAh7T"
    },
    "kernelspec": {
      "name": "python3",
      "display_name": "Python 3"
    },
    "language_info": {
      "name": "python"
    }
  },
  "cells": [
    {
      "cell_type": "code",
      "execution_count": null,
      "metadata": {
        "id": "NpS6gQHT_p9k"
      },
      "outputs": [],
      "source": [
        "from pyspark.sql import SparkSession\n",
        "from pyspark.sql.functions import *\n",
        "from pyspark.sql import functions as F\n",
        "# Inicia a sessão do Spark\n",
        "spark = SparkSession.builder.appName(\"dados_escolares\").getOrCreate()\n"
      ]
    },
    {
      "cell_type": "markdown",
      "source": [
        "## Criando os dados para a tabela Escolas\n",
        "\n",
        "> Adicionar aspas\n",
        "\n"
      ],
      "metadata": {
        "id": "HSOCJHzIsu6y"
      }
    },
    {
      "cell_type": "code",
      "source": [
        "\n",
        "dados_escolares = [ (\"S001\", \"Escola A\", \"São Paulo\", \"SP\", 500, \"1º ao 9º Ano\", \"Maria Silva\", 15, \"Futebol, Basquete\", 1995, 85, \"Alta\"),\n",
        "    (\"S002\", \"Escola B\", \"Rio de Janeiro\", \"RJ\", 300, \"Educação Infantil ao 5º Ano\", \"Carlos Pereira\", 18, \"Futebol\", 2000, 90, \"Média\"),\n",
        "    (\"S003\", \"Escola C\", \"Belo Horizonte\", \"MG\", 450, \"6º ao 12º Ano\", \"Ana Costa\", 20, \"Basquete\", 1985, 88, \"Baixa\"),\n",
        "    (\"S004\", \"Escola D\", \"Curitiba\", \"PR\", 350, \"1º ao 8º Ano\", \"José Santos\", 12, \"Vôlei\", 2010, 92, \"Média\"),\n",
        "    (\"S005\", \"Escola E\", \"Salvador\", \"BA\", 600, \"Educação Infantil ao 9º Ano\", \"Fernanda Souza\", 14, \"Futebol, Vôlei\", 2005, 87, \"Alta\"),\n",
        "    (\"S006\", \"Escola F\", \"Fortaleza\", \"CE\", 400, \"1º ao 5º Ano\", \"Rafael Oliveira\", 16, \"Basquete\", 2012, 91, \"Alta\"),\n",
        "    (\"S007\", \"Escola G\", \"Porto Alegre\", \"RS\", 550, \"6º ao 12º Ano\", \"Juliana Rocha\", 13, \"Futebol\", 1998, 85, \"Baixa\"),\n",
        "    (\"S008\", \"Escola H\", \"Recife\", \"PE\", 200, \"1º ao 5º Ano\", \"Lucas Almeida\", 19, \"Natação\", 2015, 93, \"Alta\"),\n",
        "    (\"S009\", \"Escola I\", \"Manaus\", \"AM\", 250, \"Educação Infantil ao 5º Ano\", \"Patricia Lima\", 17, \"Basquete, Natação\", 2020, 90, \"Média\"),\n",
        "    (\"S010\", \"Escola J\", \"Belém\", \"PA\", 450, \"1º ao 8º Ano\", \"Roberto Souza\", 10, \"Futebol\", 2008, 89, \"Baixa\"),\n",
        "    (\"S011\", \"Escola K\", \"Goiânia\", \"GO\", 500, \"6º ao 12º Ano\", \"Mariana Silva\", 20, \"Basquete\", 1990, 94, \"Alta\"),\n",
        "    (\"S012\", \"Escola L\", \"Florianópolis\", \"SC\", 300, \"Educação Infantil ao 9º Ano\", \"Felipe Santos\", 22, \"Futebol\", 2018, 95, \"Alta\")\n",
        "]\n"
      ],
      "metadata": {
        "id": "Nj5xmgwP_zco"
      },
      "execution_count": null,
      "outputs": []
    },
    {
      "cell_type": "markdown",
      "source": [
        "## Criando as Colunas"
      ],
      "metadata": {
        "id": "J1I6H8Ogszj-"
      }
    },
    {
      "cell_type": "code",
      "source": [
        "colunas = [ \"ID da Escola\", \"Nome da Escola\", \"Cidade\", \"Estado\", \"Número de Alunos\", \"Séries Oferecidas\", \"Diretor(a)\",\n",
        "           \"Relação Professor/Aluno\", \"Programas Esportivos\", \"Ano de Fundação\", \"Média de Notas\", \"Diversidade de Alunos\"]"
      ],
      "metadata": {
        "id": "b4DppGuYA9OL"
      },
      "execution_count": null,
      "outputs": []
    },
    {
      "cell_type": "code",
      "source": [
        "from os import truncate\n",
        "df = spark.createDataFrame(dados_escolares, colunas)\n",
        "df.show(truncate = False)"
      ],
      "metadata": {
        "colab": {
          "base_uri": "https://localhost:8080/"
        },
        "id": "CtdKPh3HBTPt",
        "outputId": "c6c0b97a-e51d-43df-c2c4-1e1148b43945"
      },
      "execution_count": null,
      "outputs": [
        {
          "output_type": "stream",
          "name": "stdout",
          "text": [
            "+------------+--------------+--------------+------+----------------+---------------------------+---------------+-----------------------+--------------------+---------------+--------------+---------------------+\n",
            "|ID da Escola|Nome da Escola|Cidade        |Estado|Número de Alunos|Séries Oferecidas          |Diretor(a)     |Relação Professor/Aluno|Programas Esportivos|Ano de Fundação|Média de Notas|Diversidade de Alunos|\n",
            "+------------+--------------+--------------+------+----------------+---------------------------+---------------+-----------------------+--------------------+---------------+--------------+---------------------+\n",
            "|S001        |Escola A      |São Paulo     |SP    |500             |1º ao 9º Ano               |Maria Silva    |15                     |Futebol, Basquete   |1995           |85            |Alta                 |\n",
            "|S002        |Escola B      |Rio de Janeiro|RJ    |300             |Educação Infantil ao 5º Ano|Carlos Pereira |18                     |Futebol             |2000           |90            |Média                |\n",
            "|S003        |Escola C      |Belo Horizonte|MG    |450             |6º ao 12º Ano              |Ana Costa      |20                     |Basquete            |1985           |88            |Baixa                |\n",
            "|S004        |Escola D      |Curitiba      |PR    |350             |1º ao 8º Ano               |José Santos    |12                     |Vôlei               |2010           |92            |Média                |\n",
            "|S005        |Escola E      |Salvador      |BA    |600             |Educação Infantil ao 9º Ano|Fernanda Souza |14                     |Futebol, Vôlei      |2005           |87            |Alta                 |\n",
            "|S006        |Escola F      |Fortaleza     |CE    |400             |1º ao 5º Ano               |Rafael Oliveira|16                     |Basquete            |2012           |91            |Alta                 |\n",
            "|S007        |Escola G      |Porto Alegre  |RS    |550             |6º ao 12º Ano              |Juliana Rocha  |13                     |Futebol             |1998           |85            |Baixa                |\n",
            "|S008        |Escola H      |Recife        |PE    |200             |1º ao 5º Ano               |Lucas Almeida  |19                     |Natação             |2015           |93            |Alta                 |\n",
            "|S009        |Escola I      |Manaus        |AM    |250             |Educação Infantil ao 5º Ano|Patricia Lima  |17                     |Basquete, Natação   |2020           |90            |Média                |\n",
            "|S010        |Escola J      |Belém         |PA    |450             |1º ao 8º Ano               |Roberto Souza  |10                     |Futebol             |2008           |89            |Baixa                |\n",
            "|S011        |Escola K      |Goiânia       |GO    |500             |6º ao 12º Ano              |Mariana Silva  |20                     |Basquete            |1990           |94            |Alta                 |\n",
            "|S012        |Escola L      |Florianópolis |SC    |300             |Educação Infantil ao 9º Ano|Felipe Santos  |22                     |Futebol             |2018           |95            |Alta                 |\n",
            "+------------+--------------+--------------+------+----------------+---------------------------+---------------+-----------------------+--------------------+---------------+--------------+---------------------+\n",
            "\n"
          ]
        }
      ]
    },
    {
      "cell_type": "markdown",
      "source": [
        "## Renomeando as Colunas"
      ],
      "metadata": {
        "id": "CHeaIsb-s4p2"
      }
    },
    {
      "cell_type": "code",
      "source": [
        "df_renomear = df\\\n",
        ".withColumnRenamed (\"ID da Escola\", \"Id_escola\")\\\n",
        "  .withColumnRenamed (\"Nome da Escola\", \"Nome_Escola\")\\\n",
        "  .withColumnRenamed (\"Cidade\", \"Nome_Cidade\")\\\n",
        "  .withColumnRenamed (\"Estado\", \"Nome_Estado\")\\\n",
        "  .withColumnRenamed (\"Número de Alunos\", \"Qtd_alunos\")\\\n",
        "  .withColumnRenamed (\"Séries Oferecidas\", \"Nome_Series_Oferecidas\")\\\n",
        "  .withColumnRenamed (\"Diretor(a)\", \"Nome_Diretoria\")\\\n",
        "  .withColumnRenamed (\"Relação Professor/Aluno\", \"Qtd_relacao_Prof_Alun\")\\\n",
        "  .withColumnRenamed (\"Programas Esportivos\", \"Nome_Programas_Esportivos\")\\\n",
        "  .withColumnRenamed (\"Ano de Fundação\", \"Ano_de_Fundacao\")\\\n",
        "  .withColumnRenamed (\"Média de Notas\", \"Decimal_Media_Notas\")\\\n",
        "  .withColumnRenamed (\"Diversidade de Alunos\", \"Desc_Diversidade_Alunos\")\n",
        "df_renomear.show(truncate=False)"
      ],
      "metadata": {
        "colab": {
          "base_uri": "https://localhost:8080/"
        },
        "id": "DNWKNY1oB-tk",
        "outputId": "700067f4-7aed-4b5c-e44d-a537e1190eda"
      },
      "execution_count": null,
      "outputs": [
        {
          "output_type": "stream",
          "name": "stdout",
          "text": [
            "+---------+-----------+--------------+-----------+----------+---------------------------+---------------+---------------------+-------------------------+---------------+-------------------+-----------------------+\n",
            "|Id_escola|Nome_Escola|Nome_Cidade   |Nome_Estado|Qtd_alunos|Nome_Series_Oferecidas     |Nome_Diretoria |Qtd_relacao_Prof_Alun|Nome_Programas_Esportivos|Ano_de_Fundacao|Decimal_Media_Notas|Desc_Diversidade_Alunos|\n",
            "+---------+-----------+--------------+-----------+----------+---------------------------+---------------+---------------------+-------------------------+---------------+-------------------+-----------------------+\n",
            "|S001     |Escola A   |São Paulo     |SP         |500       |1º ao 9º Ano               |Maria Silva    |15                   |Futebol, Basquete        |1995           |85                 |Alta                   |\n",
            "|S002     |Escola B   |Rio de Janeiro|RJ         |300       |Educação Infantil ao 5º Ano|Carlos Pereira |18                   |Futebol                  |2000           |90                 |Média                  |\n",
            "|S003     |Escola C   |Belo Horizonte|MG         |450       |6º ao 12º Ano              |Ana Costa      |20                   |Basquete                 |1985           |88                 |Baixa                  |\n",
            "|S004     |Escola D   |Curitiba      |PR         |350       |1º ao 8º Ano               |José Santos    |12                   |Vôlei                    |2010           |92                 |Média                  |\n",
            "|S005     |Escola E   |Salvador      |BA         |600       |Educação Infantil ao 9º Ano|Fernanda Souza |14                   |Futebol, Vôlei           |2005           |87                 |Alta                   |\n",
            "|S006     |Escola F   |Fortaleza     |CE         |400       |1º ao 5º Ano               |Rafael Oliveira|16                   |Basquete                 |2012           |91                 |Alta                   |\n",
            "|S007     |Escola G   |Porto Alegre  |RS         |550       |6º ao 12º Ano              |Juliana Rocha  |13                   |Futebol                  |1998           |85                 |Baixa                  |\n",
            "|S008     |Escola H   |Recife        |PE         |200       |1º ao 5º Ano               |Lucas Almeida  |19                   |Natação                  |2015           |93                 |Alta                   |\n",
            "|S009     |Escola I   |Manaus        |AM         |250       |Educação Infantil ao 5º Ano|Patricia Lima  |17                   |Basquete, Natação        |2020           |90                 |Média                  |\n",
            "|S010     |Escola J   |Belém         |PA         |450       |1º ao 8º Ano               |Roberto Souza  |10                   |Futebol                  |2008           |89                 |Baixa                  |\n",
            "|S011     |Escola K   |Goiânia       |GO         |500       |6º ao 12º Ano              |Mariana Silva  |20                   |Basquete                 |1990           |94                 |Alta                   |\n",
            "|S012     |Escola L   |Florianópolis |SC         |300       |Educação Infantil ao 9º Ano|Felipe Santos  |22                   |Futebol                  |2018           |95                 |Alta                   |\n",
            "+---------+-----------+--------------+-----------+----------+---------------------------+---------------+---------------------+-------------------------+---------------+-------------------+-----------------------+\n",
            "\n"
          ]
        }
      ]
    },
    {
      "cell_type": "code",
      "source": [
        "df_renomear.select(col('Qtd_relacao_Prof_Alun')).distinct().show()"
      ],
      "metadata": {
        "colab": {
          "base_uri": "https://localhost:8080/"
        },
        "id": "laZ-cojyIj0u",
        "outputId": "d1fe0083-a94e-4232-a469-b6978348a1b8"
      },
      "execution_count": null,
      "outputs": [
        {
          "output_type": "stream",
          "name": "stdout",
          "text": [
            "+---------------------+\n",
            "|Qtd_relacao_Prof_Alun|\n",
            "+---------------------+\n",
            "|                   12|\n",
            "|                   18|\n",
            "|                   14|\n",
            "|                   15|\n",
            "|                   20|\n",
            "|                   16|\n",
            "|                   19|\n",
            "|                   22|\n",
            "|                   17|\n",
            "|                   10|\n",
            "|                   13|\n",
            "+---------------------+\n",
            "\n"
          ]
        }
      ]
    },
    {
      "cell_type": "code",
      "source": [
        "#collect() entrega em formato de lista o que você está pedindo\n",
        "lista = df_renomear.select(col('Qtd_relacao_Prof_Alun')).distinct().collect()\n",
        "lista\n"
      ],
      "metadata": {
        "colab": {
          "base_uri": "https://localhost:8080/"
        },
        "id": "k5dHcdCJKp45",
        "outputId": "1a2afb8b-2627-438c-cc1f-f25e7214379a"
      },
      "execution_count": null,
      "outputs": [
        {
          "output_type": "execute_result",
          "data": {
            "text/plain": [
              "[Row(Qtd_relacao_Prof_Alun=12),\n",
              " Row(Qtd_relacao_Prof_Alun=18),\n",
              " Row(Qtd_relacao_Prof_Alun=14),\n",
              " Row(Qtd_relacao_Prof_Alun=15),\n",
              " Row(Qtd_relacao_Prof_Alun=20),\n",
              " Row(Qtd_relacao_Prof_Alun=16),\n",
              " Row(Qtd_relacao_Prof_Alun=19),\n",
              " Row(Qtd_relacao_Prof_Alun=22),\n",
              " Row(Qtd_relacao_Prof_Alun=17),\n",
              " Row(Qtd_relacao_Prof_Alun=10),\n",
              " Row(Qtd_relacao_Prof_Alun=13)]"
            ]
          },
          "metadata": {},
          "execution_count": 69
        }
      ]
    },
    {
      "cell_type": "code",
      "source": [
        "type(lista[9][0])"
      ],
      "metadata": {
        "colab": {
          "base_uri": "https://localhost:8080/"
        },
        "id": "EaYOp_8xOaef",
        "outputId": "bf099a69-d6bf-4550-bf8e-2bf02fae21ce"
      },
      "execution_count": null,
      "outputs": [
        {
          "output_type": "execute_result",
          "data": {
            "text/plain": [
              "int"
            ]
          },
          "metadata": {},
          "execution_count": 70
        }
      ]
    },
    {
      "cell_type": "code",
      "source": [
        "df_renomear.show()"
      ],
      "metadata": {
        "colab": {
          "base_uri": "https://localhost:8080/"
        },
        "id": "0Bm8b23BvIUF",
        "outputId": "dec09c4b-5fae-45e7-f5a8-1be9f5d7c4d9"
      },
      "execution_count": null,
      "outputs": [
        {
          "output_type": "stream",
          "name": "stdout",
          "text": [
            "+---------+-----------+--------------+-----------+----------+----------------------+---------------+---------------------+-------------------------+---------------+-------------------+-----------------------+\n",
            "|Id_escola|Nome_Escola|   Nome_Cidade|Nome_Estado|Qtd_alunos|Nome_Series_Oferecidas| Nome_Diretoria|Qtd_relacao_Prof_Alun|Nome_Programas_Esportivos|Ano_de_Fundacao|Decimal_Media_Notas|Desc_Diversidade_Alunos|\n",
            "+---------+-----------+--------------+-----------+----------+----------------------+---------------+---------------------+-------------------------+---------------+-------------------+-----------------------+\n",
            "|     S001|   Escola A|     São Paulo|         SP|       500|          1º ao 9º Ano|    Maria Silva|                   15|        Futebol, Basquete|           1995|                 85|                   Alta|\n",
            "|     S002|   Escola B|Rio de Janeiro|         RJ|       300|  Educação Infantil...| Carlos Pereira|                   18|                  Futebol|           2000|                 90|                  Média|\n",
            "|     S003|   Escola C|Belo Horizonte|         MG|       450|         6º ao 12º Ano|      Ana Costa|                   20|                 Basquete|           1985|                 88|                  Baixa|\n",
            "|     S004|   Escola D|      Curitiba|         PR|       350|          1º ao 8º Ano|    José Santos|                   12|                    Vôlei|           2010|                 92|                  Média|\n",
            "|     S005|   Escola E|      Salvador|         BA|       600|  Educação Infantil...| Fernanda Souza|                   14|           Futebol, Vôlei|           2005|                 87|                   Alta|\n",
            "|     S006|   Escola F|     Fortaleza|         CE|       400|          1º ao 5º Ano|Rafael Oliveira|                   16|                 Basquete|           2012|                 91|                   Alta|\n",
            "|     S007|   Escola G|  Porto Alegre|         RS|       550|         6º ao 12º Ano|  Juliana Rocha|                   13|                  Futebol|           1998|                 85|                  Baixa|\n",
            "|     S008|   Escola H|        Recife|         PE|       200|          1º ao 5º Ano|  Lucas Almeida|                   19|                  Natação|           2015|                 93|                   Alta|\n",
            "|     S009|   Escola I|        Manaus|         AM|       250|  Educação Infantil...|  Patricia Lima|                   17|        Basquete, Natação|           2020|                 90|                  Média|\n",
            "|     S010|   Escola J|         Belém|         PA|       450|          1º ao 8º Ano|  Roberto Souza|                   10|                  Futebol|           2008|                 89|                  Baixa|\n",
            "|     S011|   Escola K|       Goiânia|         GO|       500|         6º ao 12º Ano|  Mariana Silva|                   20|                 Basquete|           1990|                 94|                   Alta|\n",
            "|     S012|   Escola L| Florianópolis|         SC|       300|  Educação Infantil...|  Felipe Santos|                   22|                  Futebol|           2018|                 95|                   Alta|\n",
            "+---------+-----------+--------------+-----------+----------+----------------------+---------------+---------------------+-------------------------+---------------+-------------------+-----------------------+\n",
            "\n"
          ]
        }
      ]
    },
    {
      "cell_type": "code",
      "source": [
        "dados_escolares = df_renomear\n",
        "dados_escolares.show()"
      ],
      "metadata": {
        "colab": {
          "base_uri": "https://localhost:8080/"
        },
        "id": "A9fZX01QyT7H",
        "outputId": "8526e942-5007-4b87-a767-bdb6b1a77430"
      },
      "execution_count": null,
      "outputs": [
        {
          "output_type": "stream",
          "name": "stdout",
          "text": [
            "+---------+-----------+--------------+-----------+----------+----------------------+---------------+---------------------+-------------------------+---------------+-------------------+-----------------------+\n",
            "|Id_escola|Nome_Escola|   Nome_Cidade|Nome_Estado|Qtd_alunos|Nome_Series_Oferecidas| Nome_Diretoria|Qtd_relacao_Prof_Alun|Nome_Programas_Esportivos|Ano_de_Fundacao|Decimal_Media_Notas|Desc_Diversidade_Alunos|\n",
            "+---------+-----------+--------------+-----------+----------+----------------------+---------------+---------------------+-------------------------+---------------+-------------------+-----------------------+\n",
            "|     S001|   Escola A|     São Paulo|         SP|       500|          1º ao 9º Ano|    Maria Silva|                   15|        Futebol, Basquete|           1995|                 85|                   Alta|\n",
            "|     S002|   Escola B|Rio de Janeiro|         RJ|       300|  Educação Infantil...| Carlos Pereira|                   18|                  Futebol|           2000|                 90|                  Média|\n",
            "|     S003|   Escola C|Belo Horizonte|         MG|       450|         6º ao 12º Ano|      Ana Costa|                   20|                 Basquete|           1985|                 88|                  Baixa|\n",
            "|     S004|   Escola D|      Curitiba|         PR|       350|          1º ao 8º Ano|    José Santos|                   12|                    Vôlei|           2010|                 92|                  Média|\n",
            "|     S005|   Escola E|      Salvador|         BA|       600|  Educação Infantil...| Fernanda Souza|                   14|           Futebol, Vôlei|           2005|                 87|                   Alta|\n",
            "|     S006|   Escola F|     Fortaleza|         CE|       400|          1º ao 5º Ano|Rafael Oliveira|                   16|                 Basquete|           2012|                 91|                   Alta|\n",
            "|     S007|   Escola G|  Porto Alegre|         RS|       550|         6º ao 12º Ano|  Juliana Rocha|                   13|                  Futebol|           1998|                 85|                  Baixa|\n",
            "|     S008|   Escola H|        Recife|         PE|       200|          1º ao 5º Ano|  Lucas Almeida|                   19|                  Natação|           2015|                 93|                   Alta|\n",
            "|     S009|   Escola I|        Manaus|         AM|       250|  Educação Infantil...|  Patricia Lima|                   17|        Basquete, Natação|           2020|                 90|                  Média|\n",
            "|     S010|   Escola J|         Belém|         PA|       450|          1º ao 8º Ano|  Roberto Souza|                   10|                  Futebol|           2008|                 89|                  Baixa|\n",
            "|     S011|   Escola K|       Goiânia|         GO|       500|         6º ao 12º Ano|  Mariana Silva|                   20|                 Basquete|           1990|                 94|                   Alta|\n",
            "|     S012|   Escola L| Florianópolis|         SC|       300|  Educação Infantil...|  Felipe Santos|                   22|                  Futebol|           2018|                 95|                   Alta|\n",
            "+---------+-----------+--------------+-----------+----------+----------------------+---------------+---------------------+-------------------------+---------------+-------------------+-----------------------+\n",
            "\n"
          ]
        }
      ]
    },
    {
      "cell_type": "markdown",
      "source": [
        "## Criando os Dados para a tabela Aluno\n"
      ],
      "metadata": {
        "id": "oDr6-v7FpR5p"
      }
    },
    {
      "cell_type": "code",
      "source": [
        "import random\n",
        "from datetime import datetime"
      ],
      "metadata": {
        "id": "rC6Bm1ei9zup"
      },
      "execution_count": null,
      "outputs": []
    },
    {
      "cell_type": "code",
      "source": [
        "hoje = datetime.today()\n",
        "mes_atual = hoje.month\n",
        "dia_atual = hoje.day\n",
        "ano_atual = hoje.year"
      ],
      "metadata": {
        "id": "gyt7p0dr9ul6"
      },
      "execution_count": null,
      "outputs": []
    },
    {
      "cell_type": "markdown",
      "source": [
        "## Criando os dados"
      ],
      "metadata": {
        "id": "Gtemvki3sLi_"
      }
    },
    {
      "cell_type": "code",
      "source": [
        "dados_alunos = [\n",
        "    (\"Ana Costa\", \"M001\", 15, \"Escola A\", \"São Paulo\", random.randint(75, 100), mes_atual, dia_atual, ano_atual),\n",
        "    (\"Carlos Pereira\", \"M002\", 18, \"Escola B\", \"Rio de Janeiro\", random.randint(75, 100), mes_atual, dia_atual, ano_atual),\n",
        "    (\"José Santos\", \"M003\", 12, \"Escola D\", \"Paraná\", random.randint(75, 100), mes_atual, dia_atual, ano_atual),\n",
        "    (\"Fernanda Souza\", \"M004\", 14, \"Escola E\", \"Bahia\", random.randint(75, 100), mes_atual, dia_atual, ano_atual),\n",
        "    (\"Rafael Oliveira\", \"M005\", 16, \"Escola F\", \"Ceará\", random.randint(75, 100), mes_atual, dia_atual, ano_atual),\n",
        "    (\"Juliana Rocha\", \"M006\", 13, \"Escola G\", \"Rio Grande do Sul\", random.randint(75, 100), mes_atual, dia_atual, ano_atual),\n",
        "    (\"Lucas Almeida\", \"M007\", 19, \"Escola H\", \"Pernambuco\", random.randint(75, 100), mes_atual, dia_atual, ano_atual),\n",
        "    (\"Patricia Lima\", \"M008\", 17, \"Escola I\", \"Amazonas\", random.randint(75, 100), mes_atual, dia_atual, ano_atual),\n",
        "    (\"Roberto Souza\", \"M009\", 10, \"Escola J\", \"Pará\", random.randint(75, 100), mes_atual, dia_atual, ano_atual),\n",
        "    (\"Mariana Silva\", \"M010\", 20, \"Escola K\", \"Goiás\", random.randint(75, 100), mes_atual, dia_atual, ano_atual),\n",
        "    (\"Felipe Santos\", \"M011\", 22, \"Escola L\", \"Santa Catarina\", random.randint(75, 100), mes_atual, dia_atual, ano_atual)\n",
        "]\n"
      ],
      "metadata": {
        "id": "6rHxtbye4Z3Y"
      },
      "execution_count": null,
      "outputs": []
    },
    {
      "cell_type": "markdown",
      "source": [
        "##Criando as Colunas"
      ],
      "metadata": {
        "id": "GGYA0oCAsfRB"
      }
    },
    {
      "cell_type": "code",
      "source": [
        "colunas = [\"Aluno\", \"Matrícula\", \"Idade\", \"Nome da Escola\", \"Estado\", \"Frequência\", \"Mês\", \"Dia\", \"Ano\"]"
      ],
      "metadata": {
        "id": "-YGBYXnv9iY6"
      },
      "execution_count": null,
      "outputs": []
    },
    {
      "cell_type": "code",
      "source": [
        "from os import truncate\n",
        "spark = SparkSession.builder.appName(\"DadosAlunos\").getOrCreate()\n",
        "\n",
        "df.show(truncate = False)"
      ],
      "metadata": {
        "colab": {
          "base_uri": "https://localhost:8080/"
        },
        "id": "GmS67cnppE9j",
        "outputId": "c94dd319-7bf3-4077-d672-5a57694da5e2"
      },
      "execution_count": null,
      "outputs": [
        {
          "output_type": "stream",
          "name": "stdout",
          "text": [
            "+------------+--------------+--------------+------+----------------+---------------------------+---------------+-----------------------+--------------------+---------------+--------------+---------------------+\n",
            "|ID da Escola|Nome da Escola|Cidade        |Estado|Número de Alunos|Séries Oferecidas          |Diretor(a)     |Relação Professor/Aluno|Programas Esportivos|Ano de Fundação|Média de Notas|Diversidade de Alunos|\n",
            "+------------+--------------+--------------+------+----------------+---------------------------+---------------+-----------------------+--------------------+---------------+--------------+---------------------+\n",
            "|S001        |Escola A      |São Paulo     |SP    |500             |1º ao 9º Ano               |Maria Silva    |15                     |Futebol, Basquete   |1995           |85            |Alta                 |\n",
            "|S002        |Escola B      |Rio de Janeiro|RJ    |300             |Educação Infantil ao 5º Ano|Carlos Pereira |18                     |Futebol             |2000           |90            |Média                |\n",
            "|S003        |Escola C      |Belo Horizonte|MG    |450             |6º ao 12º Ano              |Ana Costa      |20                     |Basquete            |1985           |88            |Baixa                |\n",
            "|S004        |Escola D      |Curitiba      |PR    |350             |1º ao 8º Ano               |José Santos    |12                     |Vôlei               |2010           |92            |Média                |\n",
            "|S005        |Escola E      |Salvador      |BA    |600             |Educação Infantil ao 9º Ano|Fernanda Souza |14                     |Futebol, Vôlei      |2005           |87            |Alta                 |\n",
            "|S006        |Escola F      |Fortaleza     |CE    |400             |1º ao 5º Ano               |Rafael Oliveira|16                     |Basquete            |2012           |91            |Alta                 |\n",
            "|S007        |Escola G      |Porto Alegre  |RS    |550             |6º ao 12º Ano              |Juliana Rocha  |13                     |Futebol             |1998           |85            |Baixa                |\n",
            "|S008        |Escola H      |Recife        |PE    |200             |1º ao 5º Ano               |Lucas Almeida  |19                     |Natação             |2015           |93            |Alta                 |\n",
            "|S009        |Escola I      |Manaus        |AM    |250             |Educação Infantil ao 5º Ano|Patricia Lima  |17                     |Basquete, Natação   |2020           |90            |Média                |\n",
            "|S010        |Escola J      |Belém         |PA    |450             |1º ao 8º Ano               |Roberto Souza  |10                     |Futebol             |2008           |89            |Baixa                |\n",
            "|S011        |Escola K      |Goiânia       |GO    |500             |6º ao 12º Ano              |Mariana Silva  |20                     |Basquete            |1990           |94            |Alta                 |\n",
            "|S012        |Escola L      |Florianópolis |SC    |300             |Educação Infantil ao 9º Ano|Felipe Santos  |22                     |Futebol             |2018           |95            |Alta                 |\n",
            "+------------+--------------+--------------+------+----------------+---------------------------+---------------+-----------------------+--------------------+---------------+--------------+---------------------+\n",
            "\n"
          ]
        }
      ]
    },
    {
      "cell_type": "code",
      "source": [
        "df_alunos = spark.createDataFrame(dados_alunos, colunas)"
      ],
      "metadata": {
        "id": "ENia3P9krtIt"
      },
      "execution_count": null,
      "outputs": []
    },
    {
      "cell_type": "markdown",
      "source": [
        "## Renomeando os campos"
      ],
      "metadata": {
        "id": "oK5vqeOysnFZ"
      }
    },
    {
      "cell_type": "code",
      "source": [
        "df_alunos = df_alunos \\\n",
        "    .withColumnRenamed(\"Aluno\", \"Nome_Aluno\")\\\n",
        "    .withColumnRenamed(\"Matrícula\", \"Cod_Matricula\")\\\n",
        "    .withColumnRenamed(\"Idade\", \"Num_Idade\")\\\n",
        "    .withColumnRenamed(\"Nome da Escola\", \"Nome_Escola\")\\\n",
        "    .withColumnRenamed(\"Estado\", \"Nome_Estado\")\\\n",
        "    .withColumnRenamed(\"Frequência\", \"Descricao_frequencia\")\\\n",
        "    .withColumnRenamed(\"Mês\", \"Data_Mes\")\\\n",
        "    .withColumnRenamed(\"Dia\", \"Data_Dia\")\\\n",
        "    .withColumnRenamed(\"Ano\", \"Data_Ano\")\n",
        "\n",
        "df_alunos.show(truncate=False)\n"
      ],
      "metadata": {
        "colab": {
          "base_uri": "https://localhost:8080/"
        },
        "id": "eHhdbr3J-SNp",
        "outputId": "a70e8379-46cb-4cc2-91d5-7f366dab9bec"
      },
      "execution_count": null,
      "outputs": [
        {
          "output_type": "stream",
          "name": "stdout",
          "text": [
            "+---------------+-------------+---------+-----------+-----------------+--------------------+--------+--------+--------+\n",
            "|Nome_Aluno     |Cod_Matricula|Num_Idade|Nome_Escola|Nome_Estado      |Descricao_frequencia|Data_Mes|Data_Dia|Data_Ano|\n",
            "+---------------+-------------+---------+-----------+-----------------+--------------------+--------+--------+--------+\n",
            "|Ana Costa      |M001         |15       |Escola A   |São Paulo        |96                  |4       |28      |2025    |\n",
            "|Carlos Pereira |M002         |18       |Escola B   |Rio de Janeiro   |97                  |4       |28      |2025    |\n",
            "|José Santos    |M003         |12       |Escola D   |Paraná           |93                  |4       |28      |2025    |\n",
            "|Fernanda Souza |M004         |14       |Escola E   |Bahia            |92                  |4       |28      |2025    |\n",
            "|Rafael Oliveira|M005         |16       |Escola F   |Ceará            |100                 |4       |28      |2025    |\n",
            "|Juliana Rocha  |M006         |13       |Escola G   |Rio Grande do Sul|96                  |4       |28      |2025    |\n",
            "|Lucas Almeida  |M007         |19       |Escola H   |Pernambuco       |80                  |4       |28      |2025    |\n",
            "|Patricia Lima  |M008         |17       |Escola I   |Amazonas         |85                  |4       |28      |2025    |\n",
            "|Roberto Souza  |M009         |10       |Escola J   |Pará             |85                  |4       |28      |2025    |\n",
            "|Mariana Silva  |M010         |20       |Escola K   |Goiás            |90                  |4       |28      |2025    |\n",
            "|Felipe Santos  |M011         |22       |Escola L   |Santa Catarina   |92                  |4       |28      |2025    |\n",
            "+---------------+-------------+---------+-----------+-----------------+--------------------+--------+--------+--------+\n",
            "\n"
          ]
        }
      ]
    },
    {
      "cell_type": "markdown",
      "source": [
        "## Unindo tabela Escola com tabela Aluno"
      ],
      "metadata": {
        "id": "_Zn1qJXN2jns"
      }
    },
    {
      "cell_type": "code",
      "source": [
        "df_final = df_alunos.join(\n",
        "    dados_escolares, # O DataFrame que você está unindo\n",
        "    on = \"Nome_Escola\",\n",
        "     how = \"inner\"  # Tipo de join, pode ser inner, left, right\n",
        "\n",
        ")\n",
        "df_final.show()"
      ],
      "metadata": {
        "colab": {
          "base_uri": "https://localhost:8080/"
        },
        "id": "ldbVp11juouD",
        "outputId": "584e9887-7ca0-43c2-da08-9ac486d30019"
      },
      "execution_count": null,
      "outputs": [
        {
          "output_type": "stream",
          "name": "stdout",
          "text": [
            "+-----------+---------------+-------------+---------+-----------------+--------------------+--------+--------+--------+---------+--------------+-----------+----------+----------------------+---------------+---------------------+-------------------------+---------------+-------------------+-----------------------+\n",
            "|Nome_Escola|     Nome_Aluno|Cod_Matricula|Num_Idade|      Nome_Estado|Descricao_frequencia|Data_Mes|Data_Dia|Data_Ano|Id_escola|   Nome_Cidade|Nome_Estado|Qtd_alunos|Nome_Series_Oferecidas| Nome_Diretoria|Qtd_relacao_Prof_Alun|Nome_Programas_Esportivos|Ano_de_Fundacao|Decimal_Media_Notas|Desc_Diversidade_Alunos|\n",
            "+-----------+---------------+-------------+---------+-----------------+--------------------+--------+--------+--------+---------+--------------+-----------+----------+----------------------+---------------+---------------------+-------------------------+---------------+-------------------+-----------------------+\n",
            "|   Escola A|      Ana Costa|         M001|       15|        São Paulo|                  96|       4|      28|    2025|     S001|     São Paulo|         SP|       500|          1º ao 9º Ano|    Maria Silva|                   15|        Futebol, Basquete|           1995|                 85|                   Alta|\n",
            "|   Escola B| Carlos Pereira|         M002|       18|   Rio de Janeiro|                  97|       4|      28|    2025|     S002|Rio de Janeiro|         RJ|       300|  Educação Infantil...| Carlos Pereira|                   18|                  Futebol|           2000|                 90|                  Média|\n",
            "|   Escola D|    José Santos|         M003|       12|           Paraná|                  93|       4|      28|    2025|     S004|      Curitiba|         PR|       350|          1º ao 8º Ano|    José Santos|                   12|                    Vôlei|           2010|                 92|                  Média|\n",
            "|   Escola E| Fernanda Souza|         M004|       14|            Bahia|                  92|       4|      28|    2025|     S005|      Salvador|         BA|       600|  Educação Infantil...| Fernanda Souza|                   14|           Futebol, Vôlei|           2005|                 87|                   Alta|\n",
            "|   Escola F|Rafael Oliveira|         M005|       16|            Ceará|                 100|       4|      28|    2025|     S006|     Fortaleza|         CE|       400|          1º ao 5º Ano|Rafael Oliveira|                   16|                 Basquete|           2012|                 91|                   Alta|\n",
            "|   Escola G|  Juliana Rocha|         M006|       13|Rio Grande do Sul|                  96|       4|      28|    2025|     S007|  Porto Alegre|         RS|       550|         6º ao 12º Ano|  Juliana Rocha|                   13|                  Futebol|           1998|                 85|                  Baixa|\n",
            "|   Escola H|  Lucas Almeida|         M007|       19|       Pernambuco|                  80|       4|      28|    2025|     S008|        Recife|         PE|       200|          1º ao 5º Ano|  Lucas Almeida|                   19|                  Natação|           2015|                 93|                   Alta|\n",
            "|   Escola I|  Patricia Lima|         M008|       17|         Amazonas|                  85|       4|      28|    2025|     S009|        Manaus|         AM|       250|  Educação Infantil...|  Patricia Lima|                   17|        Basquete, Natação|           2020|                 90|                  Média|\n",
            "|   Escola J|  Roberto Souza|         M009|       10|             Pará|                  85|       4|      28|    2025|     S010|         Belém|         PA|       450|          1º ao 8º Ano|  Roberto Souza|                   10|                  Futebol|           2008|                 89|                  Baixa|\n",
            "|   Escola K|  Mariana Silva|         M010|       20|            Goiás|                  90|       4|      28|    2025|     S011|       Goiânia|         GO|       500|         6º ao 12º Ano|  Mariana Silva|                   20|                 Basquete|           1990|                 94|                   Alta|\n",
            "|   Escola L|  Felipe Santos|         M011|       22|   Santa Catarina|                  92|       4|      28|    2025|     S012| Florianópolis|         SC|       300|  Educação Infantil...|  Felipe Santos|                   22|                  Futebol|           2018|                 95|                   Alta|\n",
            "+-----------+---------------+-------------+---------+-----------------+--------------------+--------+--------+--------+---------+--------------+-----------+----------+----------------------+---------------+---------------------+-------------------------+---------------+-------------------+-----------------------+\n",
            "\n"
          ]
        }
      ]
    },
    {
      "cell_type": "markdown",
      "source": [
        "## Criando coluna nova de Data"
      ],
      "metadata": {
        "id": "wfc1Fw174ZkV"
      }
    }
  ]
}