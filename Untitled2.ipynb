{
  "nbformat": 4,
  "nbformat_minor": 0,
  "metadata": {
    "colab": {
      "provenance": [],
      "authorship_tag": "ABX9TyMYrbIWebcsPmSwuo6JV89m"
    },
    "kernelspec": {
      "name": "python3",
      "display_name": "Python 3"
    },
    "language_info": {
      "name": "python"
    }
  },
  "cells": [
    {
      "cell_type": "code",
      "execution_count": null,
      "metadata": {
        "id": "NpS6gQHT_p9k"
      },
      "outputs": [],
      "source": [
        "from pyspark.sql import SparkSession\n",
        "from pyspark.sql.functions import *\n",
        "# Inicia a sessão do Spark\n",
        "spark = SparkSession.builder.appName(\"dados_escolares\").getOrCreate()\n"
      ]
    },
    {
      "cell_type": "code",
      "source": [
        "\n",
        "dados = [ (\"S001\", \"Escola A\", \"São Paulo\", \"SP\", 500, \"1º ao 9º Ano\", \"Maria Silva\", 15, \"Futebol, Basquete\", 1995, 85, \"Alta\"),\n",
        "    (\"S002\", \"Escola B\", \"Rio de Janeiro\", \"RJ\", 300, \"Educação Infantil ao 5º Ano\", \"Carlos Pereira\", 18, \"Futebol\", 2000, 90, \"Média\"),\n",
        "    (\"S003\", \"Escola C\", \"Belo Horizonte\", \"MG\", 450, \"6º ao 12º Ano\", \"Ana Costa\", 20, \"Basquete\", 1985, 88, \"Baixa\"),\n",
        "    (\"S004\", \"Escola D\", \"Curitiba\", \"PR\", 350, \"1º ao 8º Ano\", \"José Santos\", 12, \"Vôlei\", 2010, 92, \"Média\"),\n",
        "    (\"S005\", \"Escola E\", \"Salvador\", \"BA\", 600, \"Educação Infantil ao 9º Ano\", \"Fernanda Souza\", 14, \"Futebol, Vôlei\", 2005, 87, \"Alta\"),\n",
        "    (\"S006\", \"Escola F\", \"Fortaleza\", \"CE\", 400, \"1º ao 5º Ano\", \"Rafael Oliveira\", 16, \"Basquete\", 2012, 91, \"Alta\"),\n",
        "    (\"S007\", \"Escola G\", \"Porto Alegre\", \"RS\", 550, \"6º ao 12º Ano\", \"Juliana Rocha\", 13, \"Futebol\", 1998, 85, \"Baixa\"),\n",
        "    (\"S008\", \"Escola H\", \"Recife\", \"PE\", 200, \"1º ao 5º Ano\", \"Lucas Almeida\", 19, \"Natação\", 2015, 93, \"Alta\"),\n",
        "    (\"S009\", \"Escola I\", \"Manaus\", \"AM\", 250, \"Educação Infantil ao 5º Ano\", \"Patricia Lima\", 17, \"Basquete, Natação\", 2020, 90, \"Média\"),\n",
        "    (\"S010\", \"Escola J\", \"Belém\", \"PA\", 450, \"1º ao 8º Ano\", \"Roberto Souza\", 10, \"Futebol\", 2008, 89, \"Baixa\"),\n",
        "    (\"S011\", \"Escola K\", \"Goiânia\", \"GO\", 500, \"6º ao 12º Ano\", \"Mariana Silva\", 20, \"Basquete\", 1990, 94, \"Alta\"),\n",
        "    (\"S012\", \"Escola L\", \"Florianópolis\", \"SC\", 300, \"Educação Infantil ao 9º Ano\", \"Felipe Santos\", 22, \"Futebol\", 2018, 95, \"Alta\")\n",
        "]\n"
      ],
      "metadata": {
        "id": "Nj5xmgwP_zco"
      },
      "execution_count": null,
      "outputs": []
    },
    {
      "cell_type": "code",
      "source": [
        "colunas = [ \"ID da Escola\", \"Nome da Escola\", \"Cidade\", \"Estado\", \"Número de Alunos\", \"Séries Oferecidas\", \"Diretor(a)\",\n",
        "           \"Relação Professor/Aluno\", \"Programas Esportivos\", \"Ano de Fundação\", \"Média de Notas\", \"Diversidade de Alunos\"]"
      ],
      "metadata": {
        "id": "b4DppGuYA9OL"
      },
      "execution_count": null,
      "outputs": []
    },
    {
      "cell_type": "code",
      "source": [
        "from os import truncate\n",
        "df = spark.createDataFrame(dados, colunas)\n",
        "df.show(truncate = False)"
      ],
      "metadata": {
        "colab": {
          "base_uri": "https://localhost:8080/"
        },
        "id": "CtdKPh3HBTPt",
        "outputId": "a87ede24-0f11-4db7-deb6-07df3acad02b"
      },
      "execution_count": null,
      "outputs": [
        {
          "output_type": "stream",
          "name": "stdout",
          "text": [
            "+------------+--------------+--------------+------+----------------+---------------------------+---------------+-----------------------+--------------------+---------------+--------------+---------------------+\n",
            "|ID da Escola|Nome da Escola|Cidade        |Estado|Número de Alunos|Séries Oferecidas          |Diretor(a)     |Relação Professor/Aluno|Programas Esportivos|Ano de Fundação|Média de Notas|Diversidade de Alunos|\n",
            "+------------+--------------+--------------+------+----------------+---------------------------+---------------+-----------------------+--------------------+---------------+--------------+---------------------+\n",
            "|S001        |Escola A      |São Paulo     |SP    |500             |1º ao 9º Ano               |Maria Silva    |15                     |Futebol, Basquete   |1995           |85            |Alta                 |\n",
            "|S002        |Escola B      |Rio de Janeiro|RJ    |300             |Educação Infantil ao 5º Ano|Carlos Pereira |18                     |Futebol             |2000           |90            |Média                |\n",
            "|S003        |Escola C      |Belo Horizonte|MG    |450             |6º ao 12º Ano              |Ana Costa      |20                     |Basquete            |1985           |88            |Baixa                |\n",
            "|S004        |Escola D      |Curitiba      |PR    |350             |1º ao 8º Ano               |José Santos    |12                     |Vôlei               |2010           |92            |Média                |\n",
            "|S005        |Escola E      |Salvador      |BA    |600             |Educação Infantil ao 9º Ano|Fernanda Souza |14                     |Futebol, Vôlei      |2005           |87            |Alta                 |\n",
            "|S006        |Escola F      |Fortaleza     |CE    |400             |1º ao 5º Ano               |Rafael Oliveira|16                     |Basquete            |2012           |91            |Alta                 |\n",
            "|S007        |Escola G      |Porto Alegre  |RS    |550             |6º ao 12º Ano              |Juliana Rocha  |13                     |Futebol             |1998           |85            |Baixa                |\n",
            "|S008        |Escola H      |Recife        |PE    |200             |1º ao 5º Ano               |Lucas Almeida  |19                     |Natação             |2015           |93            |Alta                 |\n",
            "|S009        |Escola I      |Manaus        |AM    |250             |Educação Infantil ao 5º Ano|Patricia Lima  |17                     |Basquete, Natação   |2020           |90            |Média                |\n",
            "|S010        |Escola J      |Belém         |PA    |450             |1º ao 8º Ano               |Roberto Souza  |10                     |Futebol             |2008           |89            |Baixa                |\n",
            "|S011        |Escola K      |Goiânia       |GO    |500             |6º ao 12º Ano              |Mariana Silva  |20                     |Basquete            |1990           |94            |Alta                 |\n",
            "|S012        |Escola L      |Florianópolis |SC    |300             |Educação Infantil ao 9º Ano|Felipe Santos  |22                     |Futebol             |2018           |95            |Alta                 |\n",
            "+------------+--------------+--------------+------+----------------+---------------------------+---------------+-----------------------+--------------------+---------------+--------------+---------------------+\n",
            "\n"
          ]
        }
      ]
    },
    {
      "cell_type": "code",
      "source": [
        "df_renomear = df\\\n",
        ".withColumnRenamed (\"ID da Escola\", \"Id_escola\")\\\n",
        "  .withColumnRenamed (\"Nome da Escola\", \"Nome_Escola\")\\\n",
        "  .withColumnRenamed (\"Cidade\", \"Nome_Cidade\")\\\n",
        "  .withColumnRenamed (\"Estado\", \"Nome_Estado\")\\\n",
        "  .withColumnRenamed (\"Número de Alunos\", \"Qtd_alunos\")\\\n",
        "  .withColumnRenamed (\"Séries Oferecidas\", \"Nome_Series_Oferecidas\")\\\n",
        "  .withColumnRenamed (\"Diretor(a)\", \"Nome_Diretoria\")\\\n",
        "  .withColumnRenamed (\"Relação Professor/Aluno\", \"Qtd_relacao_Prof_Alun\")\\\n",
        "  .withColumnRenamed (\"Programas Esportivos\", \"Nome_Programas_Esportivos\")\\\n",
        "  .withColumnRenamed (\"Ano de Fundação\", \"Ano_de_Fundacao\")\\\n",
        "  .withColumnRenamed (\"Média de Notas\", \"Decimal_Média_Notas\")\\\n",
        "  .withColumnRenamed (\"Diversidade de Alunos\", \"Desc_Diversidade_Alunos\")\n",
        "df_renomear.show(truncate=False)"
      ],
      "metadata": {
        "colab": {
          "base_uri": "https://localhost:8080/"
        },
        "id": "DNWKNY1oB-tk",
        "outputId": "70f7b322-66a3-499e-8d1b-2bd98980d3e9"
      },
      "execution_count": null,
      "outputs": [
        {
          "output_type": "stream",
          "name": "stdout",
          "text": [
            "+---------+-----------+--------------+-----------+----------+---------------------------+---------------+---------------------+-------------------------+---------------+-------------------+-----------------------+\n",
            "|Id_escola|Nome_Escola|Nome_Cidade   |Nome_Estado|Qtd_alunos|Nome_Series_Oferecidas     |Nome_Diretoria |Qtd_relacao_Prof_Alun|Nome_Programas_Esportivos|Ano_de_Fundacao|Decimal_Média_Notas|Desc_Diversidade_Alunos|\n",
            "+---------+-----------+--------------+-----------+----------+---------------------------+---------------+---------------------+-------------------------+---------------+-------------------+-----------------------+\n",
            "|S001     |Escola A   |São Paulo     |SP         |500       |1º ao 9º Ano               |Maria Silva    |15                   |Futebol, Basquete        |1995           |85                 |Alta                   |\n",
            "|S002     |Escola B   |Rio de Janeiro|RJ         |300       |Educação Infantil ao 5º Ano|Carlos Pereira |18                   |Futebol                  |2000           |90                 |Média                  |\n",
            "|S003     |Escola C   |Belo Horizonte|MG         |450       |6º ao 12º Ano              |Ana Costa      |20                   |Basquete                 |1985           |88                 |Baixa                  |\n",
            "|S004     |Escola D   |Curitiba      |PR         |350       |1º ao 8º Ano               |José Santos    |12                   |Vôlei                    |2010           |92                 |Média                  |\n",
            "|S005     |Escola E   |Salvador      |BA         |600       |Educação Infantil ao 9º Ano|Fernanda Souza |14                   |Futebol, Vôlei           |2005           |87                 |Alta                   |\n",
            "|S006     |Escola F   |Fortaleza     |CE         |400       |1º ao 5º Ano               |Rafael Oliveira|16                   |Basquete                 |2012           |91                 |Alta                   |\n",
            "|S007     |Escola G   |Porto Alegre  |RS         |550       |6º ao 12º Ano              |Juliana Rocha  |13                   |Futebol                  |1998           |85                 |Baixa                  |\n",
            "|S008     |Escola H   |Recife        |PE         |200       |1º ao 5º Ano               |Lucas Almeida  |19                   |Natação                  |2015           |93                 |Alta                   |\n",
            "|S009     |Escola I   |Manaus        |AM         |250       |Educação Infantil ao 5º Ano|Patricia Lima  |17                   |Basquete, Natação        |2020           |90                 |Média                  |\n",
            "|S010     |Escola J   |Belém         |PA         |450       |1º ao 8º Ano               |Roberto Souza  |10                   |Futebol                  |2008           |89                 |Baixa                  |\n",
            "|S011     |Escola K   |Goiânia       |GO         |500       |6º ao 12º Ano              |Mariana Silva  |20                   |Basquete                 |1990           |94                 |Alta                   |\n",
            "|S012     |Escola L   |Florianópolis |SC         |300       |Educação Infantil ao 9º Ano|Felipe Santos  |22                   |Futebol                  |2018           |95                 |Alta                   |\n",
            "+---------+-----------+--------------+-----------+----------+---------------------------+---------------+---------------------+-------------------------+---------------+-------------------+-----------------------+\n",
            "\n"
          ]
        }
      ]
    },
    {
      "cell_type": "code",
      "source": [
        "df_renomear.select(col('Qtd_relacao_Prof_Alun')).distinct().show()"
      ],
      "metadata": {
        "colab": {
          "base_uri": "https://localhost:8080/"
        },
        "id": "laZ-cojyIj0u",
        "outputId": "113da98b-eb97-43c8-b049-4126320c3617"
      },
      "execution_count": null,
      "outputs": [
        {
          "output_type": "stream",
          "name": "stdout",
          "text": [
            "+---------------------+\n",
            "|Qtd_relacao_Prof_Alun|\n",
            "+---------------------+\n",
            "|                   12|\n",
            "|                   18|\n",
            "|                   14|\n",
            "|                   15|\n",
            "|                   20|\n",
            "|                   16|\n",
            "|                   19|\n",
            "|                   22|\n",
            "|                   17|\n",
            "|                   10|\n",
            "|                   13|\n",
            "+---------------------+\n",
            "\n"
          ]
        }
      ]
    },
    {
      "cell_type": "code",
      "source": [
        "#collect() entrega em formato de lista o que você está pedindo\n",
        "lista = df_renomear.select(col('Qtd_relacao_Prof_Alun')).distinct().collect()\n",
        "lista\n"
      ],
      "metadata": {
        "colab": {
          "base_uri": "https://localhost:8080/"
        },
        "id": "k5dHcdCJKp45",
        "outputId": "ffcf5ac7-b62a-40d8-b3ca-b400e58775fe"
      },
      "execution_count": null,
      "outputs": [
        {
          "output_type": "execute_result",
          "data": {
            "text/plain": [
              "[Row(Qtd_relacao_Prof_Alun=12),\n",
              " Row(Qtd_relacao_Prof_Alun=18),\n",
              " Row(Qtd_relacao_Prof_Alun=14),\n",
              " Row(Qtd_relacao_Prof_Alun=15),\n",
              " Row(Qtd_relacao_Prof_Alun=20),\n",
              " Row(Qtd_relacao_Prof_Alun=16),\n",
              " Row(Qtd_relacao_Prof_Alun=19),\n",
              " Row(Qtd_relacao_Prof_Alun=22),\n",
              " Row(Qtd_relacao_Prof_Alun=17),\n",
              " Row(Qtd_relacao_Prof_Alun=10),\n",
              " Row(Qtd_relacao_Prof_Alun=13)]"
            ]
          },
          "metadata": {},
          "execution_count": 54
        }
      ]
    },
    {
      "cell_type": "code",
      "source": [],
      "metadata": {
        "id": "gIUg07j9LYUI"
      },
      "execution_count": null,
      "outputs": []
    },
    {
      "cell_type": "code",
      "source": [
        "type(lista[9][0])"
      ],
      "metadata": {
        "colab": {
          "base_uri": "https://localhost:8080/"
        },
        "id": "EaYOp_8xOaef",
        "outputId": "6fb6ee9c-b3e3-46f2-97e6-d6a016e3405f"
      },
      "execution_count": null,
      "outputs": [
        {
          "output_type": "execute_result",
          "data": {
            "text/plain": [
              "int"
            ]
          },
          "metadata": {},
          "execution_count": 55
        }
      ]
    },
    {
      "cell_type": "code",
      "source": [
        "lista[0][0]"
      ],
      "metadata": {
        "colab": {
          "base_uri": "https://localhost:8080/"
        },
        "id": "UXb5JQJePVsi",
        "outputId": "b55459b8-f12a-4d82-e398-69163215cf21"
      },
      "execution_count": null,
      "outputs": [
        {
          "output_type": "execute_result",
          "data": {
            "text/plain": [
              "12"
            ]
          },
          "metadata": {},
          "execution_count": 60
        }
      ]
    },
    {
      "cell_type": "code",
      "source": [],
      "metadata": {
        "id": "HqYsICwrPoYE"
      },
      "execution_count": null,
      "outputs": []
    }
  ]
}